{
 "cells": [
  {
   "cell_type": "code",
   "execution_count": 1,
   "metadata": {},
   "outputs": [],
   "source": [
    "#### Importing Required Modules\n",
    "\n",
    "from bs4 import BeautifulSoup as bs\n",
    "from selenium import webdriver\n",
    "from selenium.webdriver.common.keys import Keys\n",
    "import time\n",
    "import requests\n",
    "import lxml\n",
    "import pandas as pd"
   ]
  },
  {
   "cell_type": "code",
   "execution_count": 2,
   "metadata": {},
   "outputs": [],
   "source": [
    "#### Webdriver options setting\n",
    "\n",
    "options = webdriver.ChromeOptions()\n",
    "\n",
    "options.add_argument('headless')\n",
    "\n",
    "options.add_argument('window-size=1920x1080')\n",
    "\n",
    "path = 'chromedriver.exe'\n",
    "driver = webdriver.Chrome(path, options=options)\n",
    "driver.implicitly_wait(3)"
   ]
  },
  {
   "cell_type": "code",
   "execution_count": 3,
   "metadata": {},
   "outputs": [],
   "source": [
    "#### Save Data in dict\n",
    "\n",
    "posts = {'post_id' : [],\n",
    "'제목' : [],\n",
    "'글쓴이' : [],\n",
    "'작성일' : [],\n",
    "'조회수' : [],\n",
    "'추천수' : [],\n",
    "}"
   ]
  },
  {
   "cell_type": "code",
   "execution_count": 5,
   "metadata": {},
   "outputs": [
    {
     "name": "stdout",
     "output_type": "stream",
     "text": [
      "10.0% 진행중\n",
      "20.0% 진행중\n",
      "30.0% 진행중\n",
      "40.0% 진행중\n",
      "50.0% 진행중\n",
      "60.0% 진행중\n",
      "70.0% 진행중\n"
     ]
    },
    {
     "ename": "AttributeError",
     "evalue": "'NoneType' object has no attribute 'find_all'",
     "output_type": "error",
     "traceback": [
      "\u001b[1;31m---------------------------------------------------------------------------\u001b[0m",
      "\u001b[1;31mAttributeError\u001b[0m                            Traceback (most recent call last)",
      "\u001b[1;32m<ipython-input-5-48133135387b>\u001b[0m in \u001b[0;36m<module>\u001b[1;34m\u001b[0m\n\u001b[0;32m     21\u001b[0m     \u001b[1;31m#### Each post\u001b[0m\u001b[1;33m\u001b[0m\u001b[1;33m\u001b[0m\u001b[1;33m\u001b[0m\u001b[0m\n\u001b[0;32m     22\u001b[0m \u001b[1;33m\u001b[0m\u001b[0m\n\u001b[1;32m---> 23\u001b[1;33m     \u001b[0mlists\u001b[0m \u001b[1;33m=\u001b[0m \u001b[0mtable\u001b[0m\u001b[1;33m.\u001b[0m\u001b[0mfind_all\u001b[0m\u001b[1;33m(\u001b[0m\u001b[1;34m\"tr\"\u001b[0m\u001b[1;33m)\u001b[0m\u001b[1;33m\u001b[0m\u001b[1;33m\u001b[0m\u001b[0m\n\u001b[0m\u001b[0;32m     24\u001b[0m \u001b[1;33m\u001b[0m\u001b[0m\n\u001b[0;32m     25\u001b[0m \u001b[1;33m\u001b[0m\u001b[0m\n",
      "\u001b[1;31mAttributeError\u001b[0m: 'NoneType' object has no attribute 'find_all'"
     ]
    }
   ],
   "source": [
    "#### Crawl over posts pages\n",
    "\n",
    "epoch = 1000\n",
    "\n",
    "url = \"https://gall.dcinside.com/board/lists/?id=cosmetic&page=\"\n",
    "\n",
    "for i in range(1, epoch+1):\n",
    "\n",
    "    driver.get(url+str(i))\n",
    "\n",
    "    driver.implicitly_wait(4)\n",
    "\n",
    "    page_html = driver.page_source\n",
    "\n",
    "    html_parsed = bs(page_html, 'html.parser')\n",
    "\n",
    "    #### Main table where postings are displayed\n",
    "\n",
    "    table = html_parsed.find(\"tbody\")\n",
    "\n",
    "    #### Each post\n",
    "\n",
    "    lists = table.find_all(\"tr\")\n",
    "\n",
    "\n",
    "    #### Add to Dict\n",
    "\n",
    "    for post in lists:\n",
    "        title_id = post.find(\"td\").text\n",
    "        posts['post_id'].append(title_id.strip())\n",
    "        posts['제목'].append(post.find(\"td\").find_next_sibling(\"td\").text.strip().replace(',', '').replace('\\n', ''))\n",
    "        posts['글쓴이'].append(post.find(\"td\").find_next_sibling(\"td\").find_next_sibling(\"td\").text.strip().replace(',', '').replace('\\n', ''))\n",
    "        posts['작성일'].append(post.find(\"td\").find_next_sibling(\"td\").find_next_sibling(\"td\").find_next_sibling(\"td\").text.strip())\n",
    "        posts['조회수'].append(post.find(\"td\").find_next_sibling(\"td\").find_next_sibling(\"td\").find_next_sibling(\"td\").find_next_sibling(\"td\").text.strip())\n",
    "        posts['추천수'].append(post.find(\"td\").find_next_sibling(\"td\").find_next_sibling(\"td\").find_next_sibling(\"td\").find_next_sibling(\"td\").find_next_sibling(\"td\").text.strip())\n",
    "    \n",
    "    if i % 100 == 0:\n",
    "        print(\"{}% 진행중\".format(i*100/epoch))"
   ]
  },
  {
   "cell_type": "code",
   "execution_count": 6,
   "metadata": {},
   "outputs": [
    {
     "data": {
      "text/html": [
       "<div>\n",
       "<style scoped>\n",
       "    .dataframe tbody tr th:only-of-type {\n",
       "        vertical-align: middle;\n",
       "    }\n",
       "\n",
       "    .dataframe tbody tr th {\n",
       "        vertical-align: top;\n",
       "    }\n",
       "\n",
       "    .dataframe thead th {\n",
       "        text-align: right;\n",
       "    }\n",
       "</style>\n",
       "<table border=\"1\" class=\"dataframe\">\n",
       "  <thead>\n",
       "    <tr style=\"text-align: right;\">\n",
       "      <th></th>\n",
       "      <th>post_id</th>\n",
       "      <th>제목</th>\n",
       "      <th>글쓴이</th>\n",
       "      <th>작성일</th>\n",
       "      <th>조회수</th>\n",
       "      <th>추천수</th>\n",
       "    </tr>\n",
       "  </thead>\n",
       "  <tbody>\n",
       "    <tr>\n",
       "      <th>0</th>\n",
       "      <td>공지</td>\n",
       "      <td>향수 화장품 갤러리 공지-클렌저 토너 보습제 기타제품[40]</td>\n",
       "      <td>✨변백현✨</td>\n",
       "      <td>18.05.08</td>\n",
       "      <td>32681</td>\n",
       "      <td>104</td>\n",
       "    </tr>\n",
       "    <tr>\n",
       "      <th>1</th>\n",
       "      <td>공지</td>\n",
       "      <td>향수 화장품 갤러리 공지-2 기타제품자외선차단제[46]</td>\n",
       "      <td>✨변백현✨</td>\n",
       "      <td>18.05.08</td>\n",
       "      <td>18348</td>\n",
       "      <td>69</td>\n",
       "    </tr>\n",
       "    <tr>\n",
       "      <th>2</th>\n",
       "      <td>공지</td>\n",
       "      <td>❥❥❥❥❥❥꿀피부가 되는 방법. ver①[18]</td>\n",
       "      <td>.이지은</td>\n",
       "      <td>18.01.16</td>\n",
       "      <td>32808</td>\n",
       "      <td>39</td>\n",
       "    </tr>\n",
       "    <tr>\n",
       "      <th>3</th>\n",
       "      <td>공지</td>\n",
       "      <td>❥❥❥❥❥❥꿀피부가 되는 방법. ver②[19]</td>\n",
       "      <td>.이지은</td>\n",
       "      <td>18.01.16</td>\n",
       "      <td>33484</td>\n",
       "      <td>20</td>\n",
       "    </tr>\n",
       "    <tr>\n",
       "      <th>4</th>\n",
       "      <td>공지</td>\n",
       "      <td>&gt;&gt;&gt;디시인사이드 향수 화장품갤러리 공지&lt;&lt;&lt;&lt;[19]</td>\n",
       "      <td>.이지은</td>\n",
       "      <td>16.10.13</td>\n",
       "      <td>34775</td>\n",
       "      <td>47</td>\n",
       "    </tr>\n",
       "  </tbody>\n",
       "</table>\n",
       "</div>"
      ],
      "text/plain": [
       "  post_id                                 제목    글쓴이       작성일    조회수  추천수\n",
       "0      공지  향수 화장품 갤러리 공지-클렌저 토너 보습제 기타제품[40]  ✨변백현✨  18.05.08  32681  104\n",
       "1      공지     향수 화장품 갤러리 공지-2 기타제품자외선차단제[46]  ✨변백현✨  18.05.08  18348   69\n",
       "2      공지         ❥❥❥❥❥❥꿀피부가 되는 방법. ver①[18]   .이지은  18.01.16  32808   39\n",
       "3      공지         ❥❥❥❥❥❥꿀피부가 되는 방법. ver②[19]   .이지은  18.01.16  33484   20\n",
       "4      공지     >>>디시인사이드 향수 화장품갤러리 공지<<<<[19]   .이지은  16.10.13  34775   47"
      ]
     },
     "execution_count": 6,
     "metadata": {},
     "output_type": "execute_result"
    }
   ],
   "source": [
    "postings = pd.DataFrame(posts)\n",
    "postings.head()"
   ]
  },
  {
   "cell_type": "code",
   "execution_count": 7,
   "metadata": {},
   "outputs": [
    {
     "data": {
      "text/plain": [
       "(38290, 6)"
      ]
     },
     "execution_count": 7,
     "metadata": {},
     "output_type": "execute_result"
    }
   ],
   "source": [
    "postings.shape"
   ]
  },
  {
   "cell_type": "code",
   "execution_count": 8,
   "metadata": {},
   "outputs": [
    {
     "data": {
      "text/html": [
       "<div>\n",
       "<style scoped>\n",
       "    .dataframe tbody tr th:only-of-type {\n",
       "        vertical-align: middle;\n",
       "    }\n",
       "\n",
       "    .dataframe tbody tr th {\n",
       "        vertical-align: top;\n",
       "    }\n",
       "\n",
       "    .dataframe thead th {\n",
       "        text-align: right;\n",
       "    }\n",
       "</style>\n",
       "<table border=\"1\" class=\"dataframe\">\n",
       "  <thead>\n",
       "    <tr style=\"text-align: right;\">\n",
       "      <th></th>\n",
       "      <th>post_id</th>\n",
       "      <th>제목</th>\n",
       "      <th>글쓴이</th>\n",
       "      <th>작성일</th>\n",
       "      <th>조회수</th>\n",
       "      <th>추천수</th>\n",
       "    </tr>\n",
       "  </thead>\n",
       "  <tbody>\n",
       "    <tr>\n",
       "      <th>38283</th>\n",
       "      <td>1237572</td>\n",
       "      <td>더페이스샵 손톱강화제랑 같거나 비슷한 제품 없어?</td>\n",
       "      <td>ㅇㄹㅇㄴㄹㅇ(211.213)</td>\n",
       "      <td>18.11.16</td>\n",
       "      <td>47</td>\n",
       "      <td>0</td>\n",
       "    </tr>\n",
       "    <tr>\n",
       "      <th>38284</th>\n",
       "      <td>1237571</td>\n",
       "      <td>디페린바른다음날 코에만 바하2퍼 발라도 댐? 블랙헤드 땜에</td>\n",
       "      <td>ㅇㅇ(58.239)</td>\n",
       "      <td>18.11.16</td>\n",
       "      <td>55</td>\n",
       "      <td>0</td>\n",
       "    </tr>\n",
       "    <tr>\n",
       "      <th>38285</th>\n",
       "      <td>1237570</td>\n",
       "      <td>자기얼굴이 좀 느낌없다싶으면</td>\n",
       "      <td>ㅇㅇ(125.183)</td>\n",
       "      <td>18.11.16</td>\n",
       "      <td>98</td>\n",
       "      <td>0</td>\n",
       "    </tr>\n",
       "    <tr>\n",
       "      <th>38286</th>\n",
       "      <td>1237569</td>\n",
       "      <td>아리코코 나이아신 후기[1]</td>\n",
       "      <td>ㅇㅇ(175.195)</td>\n",
       "      <td>18.11.16</td>\n",
       "      <td>183</td>\n",
       "      <td>0</td>\n",
       "    </tr>\n",
       "    <tr>\n",
       "      <th>38287</th>\n",
       "      <td>1237568</td>\n",
       "      <td>향수 순위 매겨주라. 향수매니아 들만오셈[2]</td>\n",
       "      <td>ek111(58.125)</td>\n",
       "      <td>18.11.16</td>\n",
       "      <td>464</td>\n",
       "      <td>0</td>\n",
       "    </tr>\n",
       "    <tr>\n",
       "      <th>38288</th>\n",
       "      <td>1237567</td>\n",
       "      <td>갤 왜이렇게 조용해졌어요~</td>\n",
       "      <td>???(49.175)</td>\n",
       "      <td>18.11.16</td>\n",
       "      <td>32</td>\n",
       "      <td>0</td>\n",
       "    </tr>\n",
       "    <tr>\n",
       "      <th>38289</th>\n",
       "      <td>1237566</td>\n",
       "      <td>ㅋㅋㅋ개념글에 변백현님 왤케 까였누?ㅋㅋㅋ</td>\n",
       "      <td>???(49.175)</td>\n",
       "      <td>18.11.16</td>\n",
       "      <td>60</td>\n",
       "      <td>0</td>\n",
       "    </tr>\n",
       "  </tbody>\n",
       "</table>\n",
       "</div>"
      ],
      "text/plain": [
       "       post_id                                제목              글쓴이       작성일  \\\n",
       "38283  1237572       더페이스샵 손톱강화제랑 같거나 비슷한 제품 없어?  ㅇㄹㅇㄴㄹㅇ(211.213)  18.11.16   \n",
       "38284  1237571  디페린바른다음날 코에만 바하2퍼 발라도 댐? 블랙헤드 땜에       ㅇㅇ(58.239)  18.11.16   \n",
       "38285  1237570                   자기얼굴이 좀 느낌없다싶으면      ㅇㅇ(125.183)  18.11.16   \n",
       "38286  1237569                   아리코코 나이아신 후기[1]      ㅇㅇ(175.195)  18.11.16   \n",
       "38287  1237568         향수 순위 매겨주라. 향수매니아 들만오셈[2]    ek111(58.125)  18.11.16   \n",
       "38288  1237567                    갤 왜이렇게 조용해졌어요~      ???(49.175)  18.11.16   \n",
       "38289  1237566           ㅋㅋㅋ개념글에 변백현님 왤케 까였누?ㅋㅋㅋ      ???(49.175)  18.11.16   \n",
       "\n",
       "       조회수 추천수  \n",
       "38283   47   0  \n",
       "38284   55   0  \n",
       "38285   98   0  \n",
       "38286  183   0  \n",
       "38287  464   0  \n",
       "38288   32   0  \n",
       "38289   60   0  "
      ]
     },
     "execution_count": 8,
     "metadata": {},
     "output_type": "execute_result"
    }
   ],
   "source": [
    "postings.tail(7)"
   ]
  },
  {
   "cell_type": "code",
   "execution_count": 9,
   "metadata": {},
   "outputs": [],
   "source": [
    "filename = \"DCinside_\"+str(epoch)+\".csv\"\n",
    "postings.to_csv(filename, index=False)"
   ]
  },
  {
   "cell_type": "code",
   "execution_count": 10,
   "metadata": {},
   "outputs": [],
   "source": [
    "df = pd.read_csv(\"DCinside_1000.csv\", encoding='utf-8')"
   ]
  },
  {
   "cell_type": "code",
   "execution_count": 12,
   "metadata": {},
   "outputs": [
    {
     "data": {
      "text/html": [
       "<div>\n",
       "<style scoped>\n",
       "    .dataframe tbody tr th:only-of-type {\n",
       "        vertical-align: middle;\n",
       "    }\n",
       "\n",
       "    .dataframe tbody tr th {\n",
       "        vertical-align: top;\n",
       "    }\n",
       "\n",
       "    .dataframe thead th {\n",
       "        text-align: right;\n",
       "    }\n",
       "</style>\n",
       "<table border=\"1\" class=\"dataframe\">\n",
       "  <thead>\n",
       "    <tr style=\"text-align: right;\">\n",
       "      <th></th>\n",
       "      <th>post_id</th>\n",
       "      <th>제목</th>\n",
       "      <th>글쓴이</th>\n",
       "      <th>작성일</th>\n",
       "      <th>조회수</th>\n",
       "      <th>추천수</th>\n",
       "    </tr>\n",
       "  </thead>\n",
       "  <tbody>\n",
       "    <tr>\n",
       "      <th>38285</th>\n",
       "      <td>1237570</td>\n",
       "      <td>자기얼굴이 좀 느낌없다싶으면</td>\n",
       "      <td>ㅇㅇ(125.183)</td>\n",
       "      <td>18.11.16</td>\n",
       "      <td>98</td>\n",
       "      <td>0</td>\n",
       "    </tr>\n",
       "    <tr>\n",
       "      <th>38286</th>\n",
       "      <td>1237569</td>\n",
       "      <td>아리코코 나이아신 후기[1]</td>\n",
       "      <td>ㅇㅇ(175.195)</td>\n",
       "      <td>18.11.16</td>\n",
       "      <td>183</td>\n",
       "      <td>0</td>\n",
       "    </tr>\n",
       "    <tr>\n",
       "      <th>38287</th>\n",
       "      <td>1237568</td>\n",
       "      <td>향수 순위 매겨주라. 향수매니아 들만오셈[2]</td>\n",
       "      <td>ek111(58.125)</td>\n",
       "      <td>18.11.16</td>\n",
       "      <td>464</td>\n",
       "      <td>0</td>\n",
       "    </tr>\n",
       "    <tr>\n",
       "      <th>38288</th>\n",
       "      <td>1237567</td>\n",
       "      <td>갤 왜이렇게 조용해졌어요~</td>\n",
       "      <td>???(49.175)</td>\n",
       "      <td>18.11.16</td>\n",
       "      <td>32</td>\n",
       "      <td>0</td>\n",
       "    </tr>\n",
       "    <tr>\n",
       "      <th>38289</th>\n",
       "      <td>1237566</td>\n",
       "      <td>ㅋㅋㅋ개념글에 변백현님 왤케 까였누?ㅋㅋㅋ</td>\n",
       "      <td>???(49.175)</td>\n",
       "      <td>18.11.16</td>\n",
       "      <td>60</td>\n",
       "      <td>0</td>\n",
       "    </tr>\n",
       "  </tbody>\n",
       "</table>\n",
       "</div>"
      ],
      "text/plain": [
       "       post_id                         제목            글쓴이       작성일  조회수  추천수\n",
       "38285  1237570            자기얼굴이 좀 느낌없다싶으면    ㅇㅇ(125.183)  18.11.16   98    0\n",
       "38286  1237569            아리코코 나이아신 후기[1]    ㅇㅇ(175.195)  18.11.16  183    0\n",
       "38287  1237568  향수 순위 매겨주라. 향수매니아 들만오셈[2]  ek111(58.125)  18.11.16  464    0\n",
       "38288  1237567             갤 왜이렇게 조용해졌어요~    ???(49.175)  18.11.16   32    0\n",
       "38289  1237566    ㅋㅋㅋ개념글에 변백현님 왤케 까였누?ㅋㅋㅋ    ???(49.175)  18.11.16   60    0"
      ]
     },
     "execution_count": 12,
     "metadata": {},
     "output_type": "execute_result"
    }
   ],
   "source": [
    "df.tail()"
   ]
  },
  {
   "cell_type": "code",
   "execution_count": 13,
   "metadata": {},
   "outputs": [
    {
     "data": {
      "text/plain": [
       "(38290, 6)"
      ]
     },
     "execution_count": 13,
     "metadata": {},
     "output_type": "execute_result"
    }
   ],
   "source": [
    "df.shape"
   ]
  },
  {
   "cell_type": "code",
   "execution_count": null,
   "metadata": {},
   "outputs": [],
   "source": []
  }
 ],
 "metadata": {
  "kernelspec": {
   "display_name": "Python 3",
   "language": "python",
   "name": "python3"
  },
  "language_info": {
   "codemirror_mode": {
    "name": "ipython",
    "version": 3
   },
   "file_extension": ".py",
   "mimetype": "text/x-python",
   "name": "python",
   "nbconvert_exporter": "python",
   "pygments_lexer": "ipython3",
   "version": "3.7.2"
  }
 },
 "nbformat": 4,
 "nbformat_minor": 2
}
