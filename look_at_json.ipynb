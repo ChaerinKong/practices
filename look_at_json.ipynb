{
 "cells": [
  {
   "cell_type": "code",
   "execution_count": 1,
   "metadata": {},
   "outputs": [],
   "source": [
    "import json\n",
    "import numpy as np\n",
    "import sys\n",
    "import os"
   ]
  },
  {
   "cell_type": "code",
   "execution_count": 4,
   "metadata": {},
   "outputs": [
    {
     "data": {
      "text/plain": [
       "'C:\\\\Users\\\\rin46\\\\Documents\\\\2019-여름\\\\GH_BNT'"
      ]
     },
     "execution_count": 4,
     "metadata": {},
     "output_type": "execute_result"
    }
   ],
   "source": [
    "os.getcwd()"
   ]
  },
  {
   "cell_type": "code",
   "execution_count": 5,
   "metadata": {},
   "outputs": [],
   "source": [
    "os.chdir('../../../desktop')"
   ]
  },
  {
   "cell_type": "code",
   "execution_count": 7,
   "metadata": {},
   "outputs": [],
   "source": [
    "with open('0__0man.json', encoding='utf-8') as json_file:\n",
    "    json_data = json.load(json_file)"
   ]
  },
  {
   "cell_type": "code",
   "execution_count": 14,
   "metadata": {},
   "outputs": [
    {
     "data": {
      "text/plain": [
       "10"
      ]
     },
     "execution_count": 14,
     "metadata": {},
     "output_type": "execute_result"
    }
   ],
   "source": [
    "len(json_data)"
   ]
  },
  {
   "cell_type": "code",
   "execution_count": 17,
   "metadata": {},
   "outputs": [
    {
     "data": {
      "text/plain": [
       "[{'author': 'marianaeliza1997', 'comment': 'MaRianaELiza'},\n",
       " {'author': 'marianaeliza1997', 'comment': '🚗🙌'},\n",
       " {'author': 'jujuhg44433', 'comment': '안녕'},\n",
       " {'author': 'jujuhg44433',\n",
       "  'comment': '사랑해💞❤💞❤💞❤💞❤💞❤💞❤💞❤💞❤💞❤❤💞❤💞💞❤💞❤💞❤💞❤💞❤💞❤💞❤💞💞❤💞💞❤💞❤💞❤💞❤💞❤💞❤💞❤💞❤❤💞💞❤❤💞💞❤❤💞💞❤❤💞❤💞❤💞💞❤❤💞❤💞💞❤💞❤',\n",
       "  'heart': '1'},\n",
       " {'author': 'jujuhg44433', 'comment': '운전조심해간다'},\n",
       " {'author': '_juli._.ana', 'comment': '😘'},\n",
       " {'author': 'alya.cm', 'comment': '👑❤️'},\n",
       " {'author': 'anca__anca123', 'comment': 'Hi😊👍'},\n",
       " {'author': 'michelleleng5', 'comment': '😍😍😍'},\n",
       " {'author': 'jhonmarkcano', 'comment': '💕'},\n",
       " {'author': 'hwooony', 'comment': '베스트 드라이버~~'},\n",
       " {'author': 'hangeoll',\n",
       "  'comment': '@mj2_xx @_eunsun__ 아 잘생겼다 코 전래 예쁘다',\n",
       "  'mentions': ['mj2_xx', '_eunsun__']},\n",
       " {'author': '_eunsun__',\n",
       "  'comment': '@hangeoll 와 존나잘생겨땅',\n",
       "  'mentions': ['hangeoll']},\n",
       " {'author': 'gabriell2210', 'comment': '😍🖤💕'},\n",
       " {'author': 'jujuhg44433', 'comment': '안녕'},\n",
       " {'author': 'jujuhg44433', 'comment': '뭐해'},\n",
       " {'author': 'dea_imroatush_shalehah', 'comment': '😍😘❤️😊😘❤️'},\n",
       " {'author': 'weenameemo', 'comment': '🤟🤟🤟😍💕'},\n",
       " {'author': 'betul_19000006', 'comment': '❤️❤️❤️', 'heart': '1'},\n",
       " {'author': 'perliux_12_5', 'comment': '😍😍😍😍😍 you are perfec💕💕💕💕'},\n",
       " {'author': 'em_p.a', 'comment': '😍'},\n",
       " {'author': 'ta7nab', 'comment': '一緒にドライブ…みたい。♡!!'},\n",
       " {'author': 'pleum_am_hope',\n",
       "  'comment': 'I m from Thailand.ติดตามมานานเเล้วววน่ารักมากก💕'},\n",
       " {'author': 'cog.j_92', 'comment': '와... 얼굴천재', 'heart': '2'},\n",
       " {'author': '0__0man', 'comment': ''},\n",
       " {'author': 'vkbauau1220', 'comment': '😂😂😂😂'},\n",
       " {'author': 'eszqaz123456', 'comment': '😆😆💖💖'},\n",
       " {'author': 'jujuhg44433',\n",
       "  'comment': '사랑해💞❤💞💕❤❤💕💕❤💕❤💞❤❤💕❤💞❤❤❤💞❤❤❤❤💕❤❤❤💞❤❤💞❤❤❤❤❤❤❤❤💕❤❤💞❤💕❤💞❤❤❤❤❤💞💞💞❤❤💞❤❤❤💞❤💞❤💕❤❤❤❤❤❤❤❤💕❤❤💞❤❤💞❤💞❤❤💞❤💕❤❤❤❤💞❤💞'},\n",
       " {'author': 'felany_kartika', 'comment': '😍😍😍'},\n",
       " {'author': 'bella.jj.33', 'comment': '이런거 많이좀 올려죠요 누나 눈호강좀 하게😍😍😍'},\n",
       " {'author': 'yenchu.chu', 'comment': '👏(❤️+😍…😂)'},\n",
       " {'author': 'm_xll11', 'comment': '😂Nice 🔥'},\n",
       " {'author': 'yenchu.chu',\n",
       "  'comment': \"I can't help but wish to take a ride...with you😂\"},\n",
       " {'author': 'j_i_yo_ng_cho_i', 'comment': '💜💜💜💜💜💜'},\n",
       " {'author': 'bntthuong00', 'comment': '🌺🌺🌺🌺🌺🌺'},\n",
       " {'author': '__mmdxlvlll___', 'comment': '😍'},\n",
       " {'author': 'dream_33975', 'comment': '❤️'},\n",
       " {'author': 'hamaa_91', 'comment': '이심쿵은 뭐지'}]"
      ]
     },
     "execution_count": 17,
     "metadata": {},
     "output_type": "execute_result"
    }
   ],
   "source": [
    "json_data[9]['comments']"
   ]
  },
  {
   "cell_type": "code",
   "execution_count": null,
   "metadata": {},
   "outputs": [],
   "source": []
  }
 ],
 "metadata": {
  "kernelspec": {
   "display_name": "Python 3",
   "language": "python",
   "name": "python3"
  },
  "language_info": {
   "codemirror_mode": {
    "name": "ipython",
    "version": 3
   },
   "file_extension": ".py",
   "mimetype": "text/x-python",
   "name": "python",
   "nbconvert_exporter": "python",
   "pygments_lexer": "ipython3",
   "version": "3.7.2"
  }
 },
 "nbformat": 4,
 "nbformat_minor": 2
}
